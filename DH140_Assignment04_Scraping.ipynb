{
  "cells": [
    {
      "cell_type": "markdown",
      "id": "bb4f5554-efc9-460e-8254-995efb5f06ac",
      "metadata": {},
      "source": [
        "# Assignment 4:  Web Scraping Exercise"
      ]
    },
    {
      "cell_type": "markdown",
      "id": "02c669e1",
      "metadata": {},
      "source": [
        "In this assignment, we will use web scraping to automate the process of getting data from the CORGIS website and visualizing it.\n",
        "* You can add any number of extra code cells below that you want."
      ]
    },
    {
      "cell_type": "markdown",
      "id": "47e01157",
      "metadata": {},
      "source": [
        "We are going to retrieve a list of all the CORGIS CSV Datasets.  To do this, include the following steps in the cell below:\n",
        "* Import requests and BeautifulSoup\n",
        "* Use `requests.get` to retrieve the html code of the CORGIS [CSV Datasets](https://corgis-edu.github.io/corgis/csv/) webpage\n",
        "* Use `BeautifulSoup` to parse the html and create a list containing all occurrences of the \"h3\" html tag\n",
        "  * Look at the page source of the above link to identify why it makes sense to search for the \\<h3\\> tags in the page\n",
        "* Using the list of h3 tags, make a Python list of all the dataset names and store it in the variable `corgis_list`.  \n",
        "* When you have your list, print it out.  The output should be the following:\n",
        "    * `['Aids', 'Airlines', 'Astronauts', 'Billionaires', 'Broadway', 'Business Dynamics', 'Cancer', 'Cars', 'Classics', 'Coffee', 'Construction Permits', 'Construction Spending', 'Consumer Price Index', 'County Demographics', 'Covid', 'Covid Behaviors', 'Covid Mobility', 'Drugs', 'Earthquakes', 'Election', 'Electricity', 'Emissions', 'Energy', 'Finance', 'Food', 'Food Access', 'Global Development', 'Global Emissions', 'Graduates', 'Health', 'Hospitals', 'Hydropower', 'Ingredients', 'Injuries', 'Labor', 'Medal Of Honor', 'Monkeypox', 'Music', 'Nuclear Explosions', 'Opioids', 'Parking Citations', 'Police Shootings', 'Publishers', 'Real Estate', 'Retail Services', 'School Scores', 'Skyscrapers', 'Slavery', 'Smoking', 'State Crime', 'State Demographics', 'State Fragility', 'Suicide Attacks', 'Super Bowl Ads', 'Supreme Court', 'Tate', 'Ufo Sightings', 'Video Games', 'Weather', 'Wind Turbines']`"
      ]
    },
    {
      "cell_type": "code",
      "execution_count": 4,
      "id": "9a2d2a79",
      "metadata": {
        "trusted": true
      },
      "outputs": [
        {
          "name": "stdout",
          "output_type": "stream",
          "text": [
            "Aids Airlines Astronauts Billionaires Broadway Business Dynamics Cancer Cars Classics Coffee Construction Permits Construction Spending Consumer Price Index County Demographics Covid Covid Behaviors Covid Mobility Drugs Earthquakes Election Electricity Emissions Energy Finance Food Food Access Global Development Global Emissions Graduates Health Hospitals Hydropower Ingredients Injuries Labor Medal Of Honor Monkeypox Music Nuclear Explosions Opioids Parking Citations Police Shootings Publishers Real Estate Retail Services School Scores Skyscrapers Slavery Smoking State Crime State Demographics State Fragility Suicide Attacks Super Bowl Ads Supreme Court Tate Ufo Sightings Video Games Weather Wind Turbines\n"
          ]
        }
      ],
      "source": [
        "import requests\n",
        "from bs4 import BeautifulSoup\n",
        "\n",
        "#Retrieve html code from CORGIS\n",
        "url = \"https://corgis-edu.github.io/corgis/csv/\"\n",
        "response = requests.get(url)\n",
        "html_content = response.text\n",
        "\n",
        "#Parse the html and create a list\n",
        "soup = BeautifulSoup(html_content, 'html.parser')\n",
        "h3_tags = soup.find_all('h3')\n",
        "\n",
        "#Make list of all dataset names\n",
        "corgis_list = [tag.get_text() for tag in h3_tags]\n",
        "\n",
        "print(' '.join(corgis_list))\n"
      ]
    },
    {
      "cell_type": "markdown",
      "id": "47d1e145",
      "metadata": {},
      "source": [
        "Write a function that takes an element from `corgis_list`, searches the respective CORGIS page for the CSV download link, and returns a Pandas dataframe.\n",
        "\n",
        "Hints:\n",
        "* If you define a function `pdcorgis` and want to call it with Python code like `classics_data = pdcorgis(corgis_list[0])`, then an example set of Python commands inside the function could be:\n",
        "  1. Convert the dataset name to lowercase [Note that `a.lower()` will give a lowercase version of the string `a`]\n",
        "  1. Get the HTML code from the website using `requests` with the appropriate website name, which here would be \"https://corgis-edu.github.io/corgis/csv/\" plus the dataset name plus the string \"/\" \n",
        "  1. Use `BeautifulSoup` to find all the HTML links on that page (links have the tag \"a\")\n",
        "  1. For any link element (which here I'll call \"i\"), test whether `i.has_attr('download')` is true or false; if it is true, then store the value of `i['href']` in a variable to use as part of the download link for the csv file\n",
        "  1. The complete download link for the file will be \"https://corgis-edu.github.io/corgis/csv/\" plus the dataset name plus the string \"/\" plus the string stored in the result you found for `i['href']`\n",
        "  1. Use `pd.read_csv()` to read data stored at the download link for the csv file; assign the resulting dataframe to a variable\n",
        "  1. Use a `return` statement to return the dataframe from your function.  [For example, if I saved the dataframe as the variable `corgisdf`, I would use `return corgisdf` at the end of my function]\n",
        "    "
      ]
    },
    {
      "cell_type": "code",
      "execution_count": 31,
      "id": "dfee2cf2",
      "metadata": {
        "trusted": true
      },
      "outputs": [],
      "source": [
        "import pandas as pd\n",
        "\n",
        "#Takes in name of dataset and returns a Pandas dataframe\n",
        "def pdcorgis(dataset_name):\n",
        "\n",
        "    #Convert to lowercase and add _ to needed datasets\n",
        "    dataset_name_lower = dataset_name.lower().replace(' ', '_')\n",
        "    # print(dataset_name_lower)\n",
        "    \n",
        "    #Get HTML from CORGIS page\n",
        "    dataset_url = f\"https://corgis-edu.github.io/corgis/csv/{dataset_name_lower}/\"\n",
        "    dataset_response = requests.get(dataset_url)\n",
        "    dataset_html_content = dataset_response.text\n",
        "\n",
        "    #Parse the HTML and find links\n",
        "    dataset_soup = BeautifulSoup(dataset_html_content, 'html.parser')\n",
        "    links = dataset_soup.find_all('a')\n",
        "\n",
        "    #Find download link\n",
        "    download_link = None\n",
        "    for link in links:\n",
        "        if link.has_attr('download'):\n",
        "            download_link = link['href']\n",
        "            break\n",
        "\n",
        "    if download_link is None:\n",
        "        raise ValueError(\"Download link for {dataset_name} not found\")\n",
        "    \n",
        "    #Get link to use for csv\n",
        "    csv_url = f\"https://corgis-edu.github.io/corgis/csv/{dataset_name_lower}/{download_link}\"\n",
        "\n",
        "    #Read the csv file into Pandas\n",
        "    corgis_dataframe = pd.read_csv(csv_url)\n",
        "\n",
        "    return corgis_dataframe"
      ]
    },
    {
      "cell_type": "markdown",
      "id": "02fa646d",
      "metadata": {},
      "source": [
        "Confirm that your function works for an arbitrary element of your list of CORGIS datasets.  \n",
        "* For example:  if your list of CORGIS datasets is `corgis_list` and your function name is `pdcorgis`, then executing `pdcorgis(corgis_list[0]).head()` will output the first five rows of the dataset corresponding to `corgis_list[0]`, the first name in your list\n",
        "\n",
        "You can include any code/output for checking this that you want, but for the final result, you should at least confirm that executing `pdcorgis(corgis_list[0]).head()` gives reasonable output (where `pdcorgis` and `corgis_list` are changed to your own function name and list name as needed)."
      ]
    },
    {
      "cell_type": "code",
      "execution_count": 35,
      "id": "e854bdc7",
      "metadata": {
        "trusted": true
      },
      "outputs": [
        {
          "data": {
            "text/html": [
              "<div>\n",
              "<style scoped>\n",
              "    .dataframe tbody tr th:only-of-type {\n",
              "        vertical-align: middle;\n",
              "    }\n",
              "\n",
              "    .dataframe tbody tr th {\n",
              "        vertical-align: top;\n",
              "    }\n",
              "\n",
              "    .dataframe thead th {\n",
              "        text-align: right;\n",
              "    }\n",
              "</style>\n",
              "<table border=\"1\" class=\"dataframe\">\n",
              "  <thead>\n",
              "    <tr style=\"text-align: right;\">\n",
              "      <th></th>\n",
              "      <th>time.index</th>\n",
              "      <th>time.month</th>\n",
              "      <th>time.month name</th>\n",
              "      <th>time.period</th>\n",
              "      <th>time.year</th>\n",
              "      <th>annual.combined.amusement and recreation</th>\n",
              "      <th>annual.combined.commercial</th>\n",
              "      <th>annual.combined.communication</th>\n",
              "      <th>annual.combined.conservation and development</th>\n",
              "      <th>annual.combined.educational</th>\n",
              "      <th>...</th>\n",
              "      <th>current.public.nonresidential</th>\n",
              "      <th>current.public.office</th>\n",
              "      <th>current.public.power</th>\n",
              "      <th>current.public.public safety</th>\n",
              "      <th>current.public.religious</th>\n",
              "      <th>current.public.residential</th>\n",
              "      <th>current.public.sewage and waste disposal</th>\n",
              "      <th>current.public.total construction</th>\n",
              "      <th>current.public.transportation</th>\n",
              "      <th>current.public.water supply</th>\n",
              "    </tr>\n",
              "  </thead>\n",
              "  <tbody>\n",
              "    <tr>\n",
              "      <th>0</th>\n",
              "      <td>1</td>\n",
              "      <td>1</td>\n",
              "      <td>Jan</td>\n",
              "      <td>Jan2002</td>\n",
              "      <td>2002</td>\n",
              "      <td>17866</td>\n",
              "      <td>68254</td>\n",
              "      <td>18873</td>\n",
              "      <td>3603</td>\n",
              "      <td>72357</td>\n",
              "      <td>...</td>\n",
              "      <td>13844</td>\n",
              "      <td>697</td>\n",
              "      <td>273</td>\n",
              "      <td>637</td>\n",
              "      <td>0</td>\n",
              "      <td>400</td>\n",
              "      <td>1127</td>\n",
              "      <td>14243</td>\n",
              "      <td>1285</td>\n",
              "      <td>826</td>\n",
              "    </tr>\n",
              "    <tr>\n",
              "      <th>1</th>\n",
              "      <td>2</td>\n",
              "      <td>2</td>\n",
              "      <td>Feb</td>\n",
              "      <td>Feb2002</td>\n",
              "      <td>2002</td>\n",
              "      <td>18317</td>\n",
              "      <td>65840</td>\n",
              "      <td>19943</td>\n",
              "      <td>3712</td>\n",
              "      <td>74336</td>\n",
              "      <td>...</td>\n",
              "      <td>13691</td>\n",
              "      <td>661</td>\n",
              "      <td>284</td>\n",
              "      <td>640</td>\n",
              "      <td>0</td>\n",
              "      <td>423</td>\n",
              "      <td>1119</td>\n",
              "      <td>14113</td>\n",
              "      <td>1318</td>\n",
              "      <td>851</td>\n",
              "    </tr>\n",
              "    <tr>\n",
              "      <th>2</th>\n",
              "      <td>3</td>\n",
              "      <td>3</td>\n",
              "      <td>Mar</td>\n",
              "      <td>Mar2002</td>\n",
              "      <td>2002</td>\n",
              "      <td>17988</td>\n",
              "      <td>66722</td>\n",
              "      <td>19092</td>\n",
              "      <td>3332</td>\n",
              "      <td>72247</td>\n",
              "      <td>...</td>\n",
              "      <td>13967</td>\n",
              "      <td>728</td>\n",
              "      <td>222</td>\n",
              "      <td>626</td>\n",
              "      <td>0</td>\n",
              "      <td>420</td>\n",
              "      <td>1182</td>\n",
              "      <td>14386</td>\n",
              "      <td>1452</td>\n",
              "      <td>865</td>\n",
              "    </tr>\n",
              "    <tr>\n",
              "      <th>3</th>\n",
              "      <td>4</td>\n",
              "      <td>4</td>\n",
              "      <td>Apr</td>\n",
              "      <td>Apr2002</td>\n",
              "      <td>2002</td>\n",
              "      <td>17264</td>\n",
              "      <td>64879</td>\n",
              "      <td>19150</td>\n",
              "      <td>3076</td>\n",
              "      <td>74553</td>\n",
              "      <td>...</td>\n",
              "      <td>15791</td>\n",
              "      <td>798</td>\n",
              "      <td>369</td>\n",
              "      <td>638</td>\n",
              "      <td>0</td>\n",
              "      <td>430</td>\n",
              "      <td>1272</td>\n",
              "      <td>16221</td>\n",
              "      <td>1479</td>\n",
              "      <td>967</td>\n",
              "    </tr>\n",
              "    <tr>\n",
              "      <th>4</th>\n",
              "      <td>5</td>\n",
              "      <td>5</td>\n",
              "      <td>May</td>\n",
              "      <td>May2002</td>\n",
              "      <td>2002</td>\n",
              "      <td>16988</td>\n",
              "      <td>62741</td>\n",
              "      <td>18735</td>\n",
              "      <td>3199</td>\n",
              "      <td>75577</td>\n",
              "      <td>...</td>\n",
              "      <td>17937</td>\n",
              "      <td>864</td>\n",
              "      <td>388</td>\n",
              "      <td>654</td>\n",
              "      <td>0</td>\n",
              "      <td>438</td>\n",
              "      <td>1417</td>\n",
              "      <td>18375</td>\n",
              "      <td>1652</td>\n",
              "      <td>1082</td>\n",
              "    </tr>\n",
              "  </tbody>\n",
              "</table>\n",
              "<p>5 rows × 119 columns</p>\n",
              "</div>"
            ],
            "text/plain": [
              "   time.index  time.month time.month name time.period  time.year  \\\n",
              "0           1           1             Jan     Jan2002       2002   \n",
              "1           2           2             Feb     Feb2002       2002   \n",
              "2           3           3             Mar     Mar2002       2002   \n",
              "3           4           4             Apr     Apr2002       2002   \n",
              "4           5           5             May     May2002       2002   \n",
              "\n",
              "   annual.combined.amusement and recreation  annual.combined.commercial  \\\n",
              "0                                     17866                       68254   \n",
              "1                                     18317                       65840   \n",
              "2                                     17988                       66722   \n",
              "3                                     17264                       64879   \n",
              "4                                     16988                       62741   \n",
              "\n",
              "   annual.combined.communication  \\\n",
              "0                          18873   \n",
              "1                          19943   \n",
              "2                          19092   \n",
              "3                          19150   \n",
              "4                          18735   \n",
              "\n",
              "   annual.combined.conservation and development  annual.combined.educational  \\\n",
              "0                                          3603                        72357   \n",
              "1                                          3712                        74336   \n",
              "2                                          3332                        72247   \n",
              "3                                          3076                        74553   \n",
              "4                                          3199                        75577   \n",
              "\n",
              "   ...  current.public.nonresidential  current.public.office  \\\n",
              "0  ...                          13844                    697   \n",
              "1  ...                          13691                    661   \n",
              "2  ...                          13967                    728   \n",
              "3  ...                          15791                    798   \n",
              "4  ...                          17937                    864   \n",
              "\n",
              "   current.public.power  current.public.public safety  \\\n",
              "0                   273                           637   \n",
              "1                   284                           640   \n",
              "2                   222                           626   \n",
              "3                   369                           638   \n",
              "4                   388                           654   \n",
              "\n",
              "   current.public.religious  current.public.residential  \\\n",
              "0                         0                         400   \n",
              "1                         0                         423   \n",
              "2                         0                         420   \n",
              "3                         0                         430   \n",
              "4                         0                         438   \n",
              "\n",
              "   current.public.sewage and waste disposal  \\\n",
              "0                                      1127   \n",
              "1                                      1119   \n",
              "2                                      1182   \n",
              "3                                      1272   \n",
              "4                                      1417   \n",
              "\n",
              "   current.public.total construction  current.public.transportation  \\\n",
              "0                              14243                           1285   \n",
              "1                              14113                           1318   \n",
              "2                              14386                           1452   \n",
              "3                              16221                           1479   \n",
              "4                              18375                           1652   \n",
              "\n",
              "   current.public.water supply  \n",
              "0                          826  \n",
              "1                          851  \n",
              "2                          865  \n",
              "3                          967  \n",
              "4                         1082  \n",
              "\n",
              "[5 rows x 119 columns]"
            ]
          },
          "execution_count": 35,
          "metadata": {},
          "output_type": "execute_result"
        }
      ],
      "source": [
        "#Make sure function works\n",
        "pdcorgis(corgis_list[11]).head()"
      ]
    },
    {
      "cell_type": "markdown",
      "id": "5830f955",
      "metadata": {},
      "source": [
        "Look at the list of dataset names, and choose 3 datasets for visualization.  \n",
        "\n",
        "* Make a line plot with your first choice\n",
        "* Make a bar plot with your second choice\n",
        "* Make a histogram plot with your third choice\n",
        "\n",
        "Notes:\n",
        "* You should use your list of dataset names and your function defined above to retrieve the data needed for visualization.\n",
        "* All plots should present a visualization that is reasonably understandable (no zigzagging lines in a chaotic mess, there should not be a large number of overlapping labels, and etc)\n",
        "* You will likely find it useful to first use the `head()` method to get a quick idea of what data is stored in each dataframe.\n",
        "* Depending on your data, you may want to subset your data before making any plot.\n",
        "* Remember that bar plots have categorical data on the horizontal axis."
      ]
    },
    {
      "cell_type": "code",
      "execution_count": 108,
      "id": "e20a45fc-dfc0-4559-977b-d2b86e2f6534",
      "metadata": {
        "trusted": true
      },
      "outputs": [
        {
          "data": {
            "image/png": "[encoded data removed]",
            "text/plain": [
              "<Figure size 1000x600 with 1 Axes>"
            ]
          },
          "metadata": {},
          "output_type": "display_data"
        }
      ],
      "source": [
        "import matplotlib.pyplot as plt\n",
        "#Line Plot for Comparison Over Time\n",
        "#Construction Spending\n",
        "\n",
        "#Get Dataset\n",
        "construction_data = pdcorgis(corgis_list[11])\n",
        "# construction_data.head()\n",
        "\n",
        "#Get Year\n",
        "construction_year = construction_data['time.year']\n",
        "\n",
        "#Get the annual commercial spending \n",
        "construction_combined_commercial = construction_data['annual.combined.commercial']\n",
        "\n",
        "#Put in one dataframe\n",
        "construction_new_data = pd.DataFrame({'Year': construction_year, 'Combined Commercial': construction_combined_commercial})\n",
        "\n",
        "#Group by year and get mean to get one plot point for year instead of 12 points on the same x-axis line\n",
        "construction_year_mean = construction_new_data.groupby('Year').mean().reset_index()\n",
        "# print(construction_year_mean)\n",
        "\n",
        "#Line Plot\n",
        "plt.figure(figsize=(10, 6))\n",
        "plt.plot(construction_year_mean['Year'], construction_year_mean['Combined Commercial'], marker='o', linestyle='-', color='b')\n",
        "plt.title('Annual Combined Commercial Construction Spending')\n",
        "plt.xlabel('Year')\n",
        "plt.ylabel('Combined Commercial Spent')\n",
        "plt.grid(True)\n",
        "plt.show()"
      ]
    },
    {
      "cell_type": "code",
      "execution_count": 1,
      "id": "00861327",
      "metadata": {
        "trusted": true
      },
      "outputs": [
        {
          "name": "stdout",
          "output_type": "stream",
          "text": [
            "I don't know where the list it is printing is coming from. :|\n"
          ]
        },
        {
          "ename": "NameError",
          "evalue": "name 'pdcorgis' is not defined",
          "output_type": "error",
          "traceback": [
            "\u001b[0;31m---------------------------------------------------------------------------\u001b[0m",
            "\u001b[0;31mNameError\u001b[0m                                 Traceback (most recent call last)",
            "Cell \u001b[0;32mIn[1], line 6\u001b[0m\n\u001b[1;32m      3\u001b[0m \u001b[38;5;28mprint\u001b[39m(\u001b[38;5;124m\"\u001b[39m\u001b[38;5;124mI don\u001b[39m\u001b[38;5;124m'\u001b[39m\u001b[38;5;124mt know where the list it is printing is coming from. :|\u001b[39m\u001b[38;5;124m\"\u001b[39m)\n\u001b[1;32m      5\u001b[0m \u001b[38;5;66;03m#Get Dataset\u001b[39;00m\n\u001b[0;32m----> 6\u001b[0m coffee_data \u001b[38;5;241m=\u001b[39m \u001b[43mpdcorgis\u001b[49m(corgis_list[\u001b[38;5;241m9\u001b[39m])\n\u001b[1;32m      7\u001b[0m \u001b[38;5;66;03m# coffee_data.head()\u001b[39;00m\n\u001b[1;32m      8\u001b[0m \n\u001b[1;32m      9\u001b[0m \u001b[38;5;66;03m#Get Country\u001b[39;00m\n\u001b[1;32m     10\u001b[0m coffee_location \u001b[38;5;241m=\u001b[39m coffee_data[\u001b[38;5;124m'\u001b[39m\u001b[38;5;124mLocation.Country\u001b[39m\u001b[38;5;124m'\u001b[39m]\n",
            "\u001b[0;31mNameError\u001b[0m: name 'pdcorgis' is not defined"
          ]
        }
      ],
      "source": [
        "#Bar Plot for Comparison Amoung Items Few Items\n",
        "#Election Data\n",
        "print(\"I don't know where the list it is printing is coming from. :|\")\n",
        "\n",
        "#Get Dataset\n",
        "coffee_data = pdcorgis(corgis_list[9])\n",
        "# coffee_data.head()\n",
        "\n",
        "#Get Country\n",
        "coffee_location = coffee_data['Location.Country']\n",
        "# print(coffee_location)\n",
        "\n",
        "#Get Score Total\n",
        "flavor_score = coffee_data['Data.Scores.Total']\n",
        "# print(flavor_score)\n",
        "\n",
        "#Put in one dataframe\n",
        "coffee_new_data = pd.DataFrame({'Country': coffee_location, 'Total Flavor Score': flavor_score})\n",
        "\n",
        "#Bar Plot\n",
        "plt.figure(figsize=(12, 7))\n",
        "bars = plt.bar(coffee_new_data['Country'], coffee_new_data['Total Flavor Score'], color=['darkgreen'])\n",
        "plt.title('Total Flavor Score of Coffee by Country')\n",
        "plt.xlabel('Country of Origin')\n",
        "plt.ylabel('Total Flavor Score') \n",
        "plt.ylim(70, coffee_new_data['Total Flavor Score'].max() + 5)  \n",
        "plt.grid(axis='y', linestyle='--', alpha=0.7)  \n",
        "plt.xticks(rotation=75)"
      ]
    },
    {
      "cell_type": "code",
      "execution_count": 111,
      "id": "2c9f47f6",
      "metadata": {
        "trusted": true
      },
      "outputs": [
        {
          "data": {
            "text/plain": [
              "Text(0.5, 1.0, 'Distribution of Age(Greater than 18) of Billionaires in 2014')"
            ]
          },
          "execution_count": 111,
          "metadata": {},
          "output_type": "execute_result"
        },
        {
          "data": {
            "image/png": "[encoded data removed]",
            "text/plain": [
              "<Figure size 1200x600 with 1 Axes>"
            ]
          },
          "metadata": {},
          "output_type": "display_data"
        }
      ],
      "source": [
        "#Histogram Plot for Distribution\n",
        "#Age distribution Billionaires\n",
        "\n",
        "#Get Dataset\n",
        "billionaires_data = pdcorgis(corgis_list[3])\n",
        "# billionaires_data.head(20)\n",
        "\n",
        "#Get Years data is available \n",
        "billionaires_year = billionaires_data['year']\n",
        "# print(billionaires_year)\n",
        "\n",
        "#Get Data from latest year\n",
        "billionaires_year_2014 = billionaires_data[billionaires_data['year'] == 2014]\n",
        "# print(billionaires_year_2014)\n",
        "\n",
        "#Get Data for age and filter\n",
        "billionaires_age = billionaires_year_2014['demographics.age']\n",
        "billionaires_age_greater_than_18 = billionaires_age[(billionaires_age >= 18) & (billionaires_age.notna())]\n",
        "\n",
        "# Plot histogram for Age\n",
        "plt.figure(figsize=(12, 6))\n",
        "plt.subplot(1, 2, 1)\n",
        "plt.hist(billionaires_age_greater_than_18, bins=30, color='skyblue', edgecolor='black')\n",
        "plt.xlabel('Age')\n",
        "plt.ylabel('Frequency')\n",
        "plt.title('Distribution of Age(Greater than 18) of Billionaires in 2014')\n"
      ]
    },
    {
      "cell_type": "markdown",
      "id": "053b95d4",
      "metadata": {},
      "source": [
        "# Submit\n",
        "Submit this assignment by:\n",
        "\n",
        "* Saving your work\n",
        "* Clicking on the Submit button at the top"
      ]
    }
  ],
  "metadata": {
    "kernelspec": {
      "display_name": "Python 3 (ipykernel)",
      "language": "python",
      "name": "python3"
    },
    "language_info": {
      "codemirror_mode": {
        "name": "ipython",
        "version": 3
      },
      "file_extension": ".py",
      "mimetype": "text/x-python",
      "name": "python",
      "nbconvert_exporter": "python",
      "pygments_lexer": "ipython3",
      "version": "3.10.12"
    }
  },
  "nbformat": 4,
  "nbformat_minor": 5
}
